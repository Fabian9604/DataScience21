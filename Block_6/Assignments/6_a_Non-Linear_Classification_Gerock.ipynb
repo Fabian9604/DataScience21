{
 "cells": [
  {
   "cell_type": "markdown",
   "metadata": {},
   "source": [
    "# Block 6 Exercise 1: Non-Linear Classification"
   ]
  },
  {
   "cell_type": "markdown",
   "metadata": {},
   "source": [
    "## MNIST Data\n",
    "We return to the MNIST data set on handwritten digits to compare non-linear classification algorithms ...   "
   ]
  },
  {
   "cell_type": "code",
   "execution_count": 2,
   "metadata": {},
   "outputs": [],
   "source": [
    "#imports \n",
    "import matplotlib.pyplot as plt\n",
    "import numpy as np\n",
    "from sklearn.datasets import fetch_openml"
   ]
  },
  {
   "cell_type": "code",
   "execution_count": 3,
   "metadata": {},
   "outputs": [],
   "source": [
    "# Load data from https://www.openml.org/d/554\n",
    "X, y = fetch_openml('mnist_784', version=1, return_X_y=True)\n"
   ]
  },
  {
   "cell_type": "code",
   "execution_count": 3,
   "metadata": {},
   "outputs": [
    {
     "data": {
      "text/plain": [
       "(70000, 784)"
      ]
     },
     "execution_count": 3,
     "metadata": {},
     "output_type": "execute_result"
    }
   ],
   "source": [
    "#the full MNIST data set contains 70k samples of digits 0-9 as 28*28 gray scale images (represented as 784 dim vectors)\n",
    "np.shape(X)"
   ]
  },
  {
   "cell_type": "code",
   "execution_count": 4,
   "metadata": {},
   "outputs": [
    {
     "data": {
      "text/plain": [
       "0.0"
      ]
     },
     "execution_count": 4,
     "metadata": {},
     "output_type": "execute_result"
    }
   ],
   "source": [
    "X.min()"
   ]
  },
  {
   "cell_type": "code",
   "execution_count": 5,
   "metadata": {},
   "outputs": [
    {
     "data": {
      "text/plain": [
       "255.0"
      ]
     },
     "execution_count": 5,
     "metadata": {},
     "output_type": "execute_result"
    }
   ],
   "source": [
    "#look at max/min value in the data\n",
    "X.max()"
   ]
  },
  {
   "cell_type": "markdown",
   "metadata": {},
   "source": [
    "### E1.1: Cross-Validation and Support Vector Machines\n",
    "Train and optimize  C-SVM classifier on MNIST (https://scikit-learn.org/stable/modules/generated/sklearn.svm.SVC.html#sklearn.svm.SVC)\n",
    "* use a RBF kernel\n",
    "* use *random search* with cross-validation to find the best settings for *gamma* and *C* (https://scikit-learn.org/stable/modules/generated/sklearn.model_selection.RandomizedSearchCV.html#sklearn.model_selection.RandomizedSearchCV)\n",
    "* use max_iter in the SVM to avoid long training times "
   ]
  },
  {
   "cell_type": "code",
   "execution_count": 8,
   "metadata": {},
   "outputs": [],
   "source": [
    "from sklearn.svm import SVC\n",
    "from sklearn.model_selection import train_test_split as tts\n",
    "from sklearn.pipeline import make_pipeline\n",
    "from sklearn.preprocessing import StandardScaler\n",
    "from sklearn.model_selection import RandomizedSearchCV\n",
    "from scipy.stats import uniform\n",
    "from sklearn.neural_network import MLPClassifier as MLPC\n",
    "from sklearn.metrics import mean_squared_error as mse\n",
    "from sklearn.metrics import f1_score\n",
    "\n",
    "X_train,X_test,y_train,y_test = tts(X,y,test_size=65000)"
   ]
  },
  {
   "cell_type": "code",
   "execution_count": 19,
   "metadata": {},
   "outputs": [],
   "source": [
    "pip_SVC = make_pipeline(StandardScaler(), SVC(kernel='rbf',max_iter=100))\n",
    "\n",
    "distributions = dict(svc__gamma=['scale','auto'],\n",
    "                     svc__C = uniform(loc=1,scale=10))\n",
    "\n",
    "RSCV = RandomizedSearchCV(pip_SVC,distributions,random_state=0,n_jobs=-1,n_iter=10)\n",
    "#print(clf.get_params().keys())"
   ]
  },
  {
   "cell_type": "code",
   "execution_count": 20,
   "metadata": {},
   "outputs": [
    {
     "name": "stdout",
     "output_type": "stream",
     "text": [
      "CPU times: user 5.36 s, sys: 72.1 ms, total: 5.43 s\n",
      "Wall time: 1min 51s\n"
     ]
    },
    {
     "name": "stderr",
     "output_type": "stream",
     "text": [
      "/home/student/anaconda3/lib/python3.7/site-packages/sklearn/svm/_base.py:231: ConvergenceWarning: Solver terminated early (max_iter=100).  Consider pre-processing your data with StandardScaler or MinMaxScaler.\n",
      "  % self.max_iter, ConvergenceWarning)\n"
     ]
    }
   ],
   "source": [
    "%%time\n",
    "res_RSCV = RSCV.fit(X_train,y_train)"
   ]
  },
  {
   "cell_type": "code",
   "execution_count": 21,
   "metadata": {},
   "outputs": [
    {
     "data": {
      "text/plain": [
       "{'svc__C': 6.4881350392732475, 'svc__gamma': 'auto'}"
      ]
     },
     "execution_count": 21,
     "metadata": {},
     "output_type": "execute_result"
    }
   ],
   "source": [
    "#res_RSCV = search\n",
    "res_RSCV.best_params_"
   ]
  },
  {
   "cell_type": "markdown",
   "metadata": {},
   "source": [
    "### E1.2: Pipelines and simple Neural Networks\n",
    "Split the MNIST data into  train- and test-sets and then train and evaluate a simple Multi Layer Perceptron (MLP) network. Since the non-linear activation functions of MLPs are sensitive to the scaling on the input (recall the *sigmoid* function), we need to scale all input values to [0,1] \n",
    "\n",
    "* combine all steps of your training in a SKL pipeline (https://scikit-learn.org/stable/modules/compose.html#pipeline)\n",
    "* use a SKL-scaler to scale the data (https://scikit-learn.org/stable/modules/generated/sklearn.preprocessing.StandardScaler.html)\n",
    "* MLP Parameters: https://scikit-learn.org/stable/modules/generated/sklearn.neural_network.MLPClassifier.html#sklearn.neural_network.MLPClassifier\n",
    "    * use a *SGD* solver\n",
    "    * use *tanh* as activation function\n",
    "    * compare networks with 1, 2 and 3 layers, use different numbers of neurons per layer\n",
    "    * adjust training parameters *alpha* (regularization) and *learning rate* - how sensitive is the model to these parameters?\n",
    "    * Hint: do not change all parameters at the same time, split into several experiments\n",
    "* How hard is it to find the best parameters? How many experiments would you need to find the best parameters?\n",
    "    \n"
   ]
  },
  {
   "cell_type": "code",
   "execution_count": 5,
   "metadata": {},
   "outputs": [
    {
     "name": "stdout",
     "output_type": "stream",
     "text": [
      "1.0\n"
     ]
    },
    {
     "data": {
      "text/plain": [
       "(5000, 784)"
      ]
     },
     "execution_count": 5,
     "metadata": {},
     "output_type": "execute_result"
    }
   ],
   "source": [
    "X_scaled = X /255\n",
    "print(X_scaled.max())\n",
    "\n",
    "X_sc_train,X_sc_test,y_sc_train,y_sc_test = tts(X_scaled,y,test_size=65000)\n",
    "np.shape(X_sc_train)"
   ]
  },
  {
   "cell_type": "code",
   "execution_count": 6,
   "metadata": {},
   "outputs": [],
   "source": [
    "mlpcm = MLPC(hidden_layer_sizes=(30,30,30),learning_rate = 'constant',alpha =0.0001,solver='sgd', activation='tanh',random_state=1,max_iter=200)\n",
    "NN_pip = make_pipeline(StandardScaler(),mlpcm)"
   ]
  },
  {
   "cell_type": "code",
   "execution_count": 12,
   "metadata": {},
   "outputs": [
    {
     "data": {
      "text/plain": [
       "Pipeline(memory=None,\n",
       "         steps=[('standardscaler',\n",
       "                 StandardScaler(copy=True, with_mean=True, with_std=True)),\n",
       "                ('mlpclassifier',\n",
       "                 MLPClassifier(activation='tanh', alpha=0.0001,\n",
       "                               batch_size='auto', beta_1=0.9, beta_2=0.999,\n",
       "                               early_stopping=False, epsilon=1e-08,\n",
       "                               hidden_layer_sizes=(60, 60, 60),\n",
       "                               learning_rate='constant',\n",
       "                               learning_rate_init=0.001, max_fun=15000,\n",
       "                               max_iter=1000, momentum=0.9, n_iter_no_change=10,\n",
       "                               nesterovs_momentum=True, power_t=0.5,\n",
       "                               random_state=1, shuffle=True, solver='sgd',\n",
       "                               tol=0.0001, validation_fraction=0.1,\n",
       "                               verbose=False, warm_start=False))],\n",
       "         verbose=False)"
      ]
     },
     "execution_count": 12,
     "metadata": {},
     "output_type": "execute_result"
    }
   ],
   "source": [
    "NN_pip.fit(X_sc_train,y_sc_train)"
   ]
  },
  {
   "cell_type": "code",
   "execution_count": 13,
   "metadata": {},
   "outputs": [],
   "source": [
    "pred_y_sc_test = NN_pip.predict(X_sc_test)"
   ]
  },
  {
   "cell_type": "code",
   "execution_count": 14,
   "metadata": {},
   "outputs": [
    {
     "data": {
      "text/plain": [
       "0.9073538461538462"
      ]
     },
     "execution_count": 14,
     "metadata": {},
     "output_type": "execute_result"
    }
   ],
   "source": [
    "y_sc_test_f1=f1_score(y_sc_test.astype(np.float),pred_y_sc_test.astype(np.float),average='micro')\n",
    "y_sc_test_f1"
   ]
  },
  {
   "cell_type": "markdown",
   "metadata": {},
   "source": [
    "***Variation 1: Variation of number of Layers***"
   ]
  },
  {
   "cell_type": "code",
   "execution_count": 9,
   "metadata": {},
   "outputs": [
    {
     "name": "stdout",
     "output_type": "stream",
     "text": [
      "\n",
      " layers:  40 f1_score:  0.9107076923076923\n",
      "\n",
      " layers:  (40, 40) f1_score:  0.9094461538461538\n",
      "\n",
      " layers:  (40, 40, 40) f1_score:  0.9069076923076923\n",
      "\n",
      " layers:  (40, 40, 40, 40) f1_score:  0.9005076923076923\n"
     ]
    }
   ],
   "source": [
    "non = 40\n",
    "Layer_poss = [(non),(non,non),(non,non,non),(non,non,non,non)]\n",
    "\n",
    "for layers in Layer_poss:\n",
    "    mlpcm = MLPC(hidden_layer_sizes=layers,learning_rate = 'constant',alpha =0.0001,solver='sgd', activation='tanh',random_state=1,max_iter=1000)\n",
    "    NN_pip = make_pipeline(StandardScaler(),mlpcm) \n",
    "    NN_pip.fit(X_sc_train,y_sc_train)\n",
    "    pred_y_sc_test = NN_pip.predict(X_sc_test)\n",
    "    y_sc_test_f1=f1_score(y_sc_test.astype(np.float),pred_y_sc_test.astype(np.float),average='micro')\n",
    "    print('\\n layers: ', layers, 'f1_score: ', y_sc_test_f1)"
   ]
  },
  {
   "cell_type": "markdown",
   "metadata": {},
   "source": [
    "***Variation 2:variation of number of neurons with 1 layer***"
   ]
  },
  {
   "cell_type": "code",
   "execution_count": 10,
   "metadata": {},
   "outputs": [
    {
     "name": "stdout",
     "output_type": "stream",
     "text": [
      "\n",
      " layers:  10 f1_score:  0.8782307692307693\n",
      "\n",
      " layers:  20 f1_score:  0.9021384615384616\n",
      "\n",
      " layers:  30 f1_score:  0.9083076923076923\n",
      "\n",
      " layers:  40 f1_score:  0.9107076923076923\n",
      "\n",
      " layers:  50 f1_score:  0.9114923076923078\n",
      "\n",
      " layers:  60 f1_score:  0.9098307692307692\n"
     ]
    }
   ],
   "source": [
    "Layer_poss = [(10),(20),(30),(40),(50),(60)]\n",
    "\n",
    "for layers in Layer_poss:\n",
    "    mlpcm = MLPC(hidden_layer_sizes=layers,learning_rate = 'constant',alpha =0.0001,solver='sgd', activation='tanh',random_state=1,max_iter=1000)\n",
    "    NN_pip = make_pipeline(StandardScaler(),mlpcm) \n",
    "    NN_pip.fit(X_sc_train,y_sc_train)\n",
    "    pred_y_sc_test = NN_pip.predict(X_sc_test)\n",
    "    y_sc_test_f1=f1_score(y_sc_test.astype(np.float),pred_y_sc_test.astype(np.float),average='micro')\n",
    "    print('\\n layers: ', layers, 'f1_score: ', y_sc_test_f1)"
   ]
  },
  {
   "cell_type": "markdown",
   "metadata": {},
   "source": [
    "***Variation 3: variation of number of neurons with 3 layers***"
   ]
  },
  {
   "cell_type": "code",
   "execution_count": 11,
   "metadata": {},
   "outputs": [
    {
     "name": "stdout",
     "output_type": "stream",
     "text": [
      "\n",
      " layers:  (10, 10, 10) f1_score:  0.8466923076923077\n",
      "\n",
      " layers:  (20, 20, 20) f1_score:  0.8851538461538462\n",
      "\n",
      " layers:  (30, 30, 30) f1_score:  0.9\n",
      "\n",
      " layers:  (40, 40, 40) f1_score:  0.9069076923076923\n",
      "\n",
      " layers:  (50, 50, 50) f1_score:  0.9077692307692308\n",
      "\n",
      " layers:  (60, 60, 60) f1_score:  0.9073538461538462\n"
     ]
    }
   ],
   "source": [
    "Layer_poss = [(10,10,10),(20,20,20),(30,30,30),(40,40,40),(50,50,50),(60,60,60)]\n",
    "\n",
    "for layers in Layer_poss:\n",
    "    mlpcm = MLPC(hidden_layer_sizes=layers,learning_rate = 'constant',alpha =0.0001,solver='sgd', activation='tanh',random_state=1,max_iter=1000)\n",
    "    NN_pip = make_pipeline(StandardScaler(),mlpcm) \n",
    "    NN_pip.fit(X_sc_train,y_sc_train)\n",
    "    pred_y_sc_test = NN_pip.predict(X_sc_test)\n",
    "    y_sc_test_f1=f1_score(y_sc_test.astype(np.float),pred_y_sc_test.astype(np.float),average='micro')\n",
    "    print('\\n layers: ', layers, 'f1_score: ', y_sc_test_f1)"
   ]
  },
  {
   "cell_type": "markdown",
   "metadata": {},
   "source": [
    "***Variation 3: variation of alpha***"
   ]
  },
  {
   "cell_type": "code",
   "execution_count": 19,
   "metadata": {},
   "outputs": [
    {
     "name": "stdout",
     "output_type": "stream",
     "text": [
      "\n",
      " alpha:  0.0001 f1_score:  0.9114923076923078\n",
      "\n",
      " alpha:  0.001 f1_score:  0.9114923076923078\n",
      "\n",
      " alpha:  0.01 f1_score:  0.9115692307692308\n",
      "\n",
      " alpha:  0.1 f1_score:  0.9121076923076923\n",
      "\n",
      " alpha:  1 f1_score:  0.9176\n",
      "\n",
      " alpha:  10 f1_score:  0.903876923076923\n",
      "\n",
      " alpha:  100 f1_score:  0.7190461538461539\n"
     ]
    }
   ],
   "source": [
    "layers = (50)\n",
    "alphas = [0.0001,0.001,0.01,0.1,1,10,100]\n",
    "\n",
    "for alpha in alphas:\n",
    "    mlpcm = MLPC(hidden_layer_sizes=layers,learning_rate = 'constant',alpha = alpha,solver='sgd', activation='tanh',random_state=1,max_iter=1000)\n",
    "    NN_pip = make_pipeline(StandardScaler(),mlpcm) \n",
    "    NN_pip.fit(X_sc_train,y_sc_train)\n",
    "    pred_y_sc_test = NN_pip.predict(X_sc_test)\n",
    "    y_sc_test_f1=f1_score(y_sc_test.astype(np.float),pred_y_sc_test.astype(np.float),average='micro')\n",
    "    print('\\n alpha: ', alpha, 'f1_score: ', y_sc_test_f1)"
   ]
  },
  {
   "cell_type": "markdown",
   "metadata": {},
   "source": [
    "***Variation 4: Variation of learning rate mode*** : {‘constant’, ‘invscaling’, ‘adaptive’}"
   ]
  },
  {
   "cell_type": "code",
   "execution_count": 20,
   "metadata": {},
   "outputs": [
    {
     "name": "stdout",
     "output_type": "stream",
     "text": [
      "\n",
      " lr_mode:  constant f1_score:  0.9176\n"
     ]
    },
    {
     "name": "stderr",
     "output_type": "stream",
     "text": [
      "/home/student/anaconda3/lib/python3.7/site-packages/sklearn/neural_network/_multilayer_perceptron.py:571: ConvergenceWarning: Stochastic Optimizer: Maximum iterations (1000) reached and the optimization hasn't converged yet.\n",
      "  % self.max_iter, ConvergenceWarning)\n"
     ]
    },
    {
     "name": "stdout",
     "output_type": "stream",
     "text": [
      "\n",
      " lr_mode:  invscaling f1_score:  0.6043846153846154\n",
      "\n",
      " lr_mode:  adaptive f1_score:  0.9176461538461539\n"
     ]
    }
   ],
   "source": [
    "Layer_poss = (50)\n",
    "alpha = 1\n",
    "lr_modes = ['constant', 'invscaling', 'adaptive']\n",
    "for lr_mode in lr_modes:\n",
    "    mlpcm = MLPC(hidden_layer_sizes=layers,learning_rate = lr_mode,alpha = alpha,solver='sgd', activation='tanh',random_state=1,max_iter=1000)\n",
    "    NN_pip = make_pipeline(StandardScaler(),mlpcm) \n",
    "    NN_pip.fit(X_sc_train,y_sc_train)\n",
    "    pred_y_sc_test = NN_pip.predict(X_sc_test)\n",
    "    y_sc_test_f1=f1_score(y_sc_test.astype(np.float),pred_y_sc_test.astype(np.float),average='micro')\n",
    "    print('\\n lr_mode: ', lr_mode, 'f1_score: ', y_sc_test_f1)"
   ]
  },
  {
   "cell_type": "markdown",
   "metadata": {},
   "source": [
    "***Variation 5: Variation of learning_rate_init***"
   ]
  },
  {
   "cell_type": "code",
   "execution_count": 22,
   "metadata": {},
   "outputs": [
    {
     "name": "stdout",
     "output_type": "stream",
     "text": [
      "\n",
      " lr_init:  0.001 f1_score:  0.9176461538461539\n",
      "\n",
      " lr_init:  0.01 f1_score:  0.9225538461538462\n",
      "\n",
      " lr_init:  0.1 f1_score:  0.9267230769230769\n",
      "\n",
      " lr_init:  1 f1_score:  0.9322461538461538\n",
      "\n",
      " lr_init:  10 f1_score:  0.929\n"
     ]
    }
   ],
   "source": [
    "Layer_poss = (50)\n",
    "alpha = 1\n",
    "lr_inits = [0.001,0.01,0.1,1,10]\n",
    "for lr_init in lr_inits:\n",
    "    mlpcm = MLPC(learning_rate_init=lr_init, hidden_layer_sizes=layers,learning_rate = lr_mode,alpha = alpha,solver='sgd', activation='tanh',random_state=1,max_iter=1000)\n",
    "    NN_pip = make_pipeline(StandardScaler(),mlpcm) \n",
    "    NN_pip.fit(X_sc_train,y_sc_train)\n",
    "    pred_y_sc_test = NN_pip.predict(X_sc_test)\n",
    "    y_sc_test_f1=f1_score(y_sc_test.astype(np.float),pred_y_sc_test.astype(np.float),average='micro')\n",
    "    print('\\n lr_init: ', lr_init, 'f1_score: ', y_sc_test_f1)"
   ]
  },
  {
   "cell_type": "markdown",
   "metadata": {},
   "source": [
    "best result with the following parameters:\n",
    "\n",
    "- layer-tuple : (50)\n",
    "- alpha: 1\n",
    "- learning-rate-mode: adaptive\n",
    "- initial learning rate: 1 \n",
    "\n",
    "Much more tests are needed to validate these results."
   ]
  }
 ],
 "metadata": {
  "kernelspec": {
   "display_name": "Python 3",
   "language": "python",
   "name": "python3"
  },
  "language_info": {
   "codemirror_mode": {
    "name": "ipython",
    "version": 3
   },
   "file_extension": ".py",
   "mimetype": "text/x-python",
   "name": "python",
   "nbconvert_exporter": "python",
   "pygments_lexer": "ipython3",
   "version": "3.7.6"
  }
 },
 "nbformat": 4,
 "nbformat_minor": 4
}
