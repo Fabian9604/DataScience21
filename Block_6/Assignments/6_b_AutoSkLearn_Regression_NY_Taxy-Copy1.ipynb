{
 "cells": [
  {
   "cell_type": "markdown",
   "metadata": {},
   "source": [
    "# Block 6 Exercise 2: finding the best parameters for predicting the fare of taxi rides\n",
    "We return to our Random Forest Regression and want to automatically optimize all free parameters ..."
   ]
  },
  {
   "cell_type": "code",
   "execution_count": 1,
   "metadata": {},
   "outputs": [
    {
     "name": "stdout",
     "output_type": "stream",
     "text": [
      "\u001b[33mWARNING: Keyring is skipped due to an exception: Failed to unlock the collection!\u001b[0m\n",
      "\u001b[33mWARNING: Keyring is skipped due to an exception: Failed to unlock the collection!\u001b[0m\n",
      "Collecting folium\n",
      "\u001b[33m  WARNING: Keyring is skipped due to an exception: Failed to unlock the collection!\u001b[0m\n",
      "  Downloading folium-0.12.1-py2.py3-none-any.whl (94 kB)\n",
      "\u001b[K     |████████████████████████████████| 94 kB 4.3 MB/s eta 0:00:011\n",
      "\u001b[?25hRequirement already satisfied: numpy in /home/student/anaconda3/lib/python3.7/site-packages (from folium) (1.18.1)\n",
      "Requirement already satisfied: requests in /home/student/anaconda3/lib/python3.7/site-packages (from folium) (2.22.0)\n",
      "Requirement already satisfied: jinja2>=2.9 in /home/student/anaconda3/lib/python3.7/site-packages (from folium) (2.11.1)\n",
      "\u001b[33mWARNING: Keyring is skipped due to an exception: Failed to unlock the collection!\u001b[0m\n",
      "\u001b[33mWARNING: Keyring is skipped due to an exception: Failed to unlock the collection!\u001b[0m\n",
      "Collecting branca>=0.3.0\n",
      "\u001b[33m  WARNING: Keyring is skipped due to an exception: Failed to unlock the collection!\u001b[0m\n",
      "  Downloading branca-0.4.2-py3-none-any.whl (24 kB)\n",
      "Requirement already satisfied: chardet<3.1.0,>=3.0.2 in /home/student/anaconda3/lib/python3.7/site-packages (from requests->folium) (3.0.4)\n",
      "Requirement already satisfied: certifi>=2017.4.17 in /home/student/anaconda3/lib/python3.7/site-packages (from requests->folium) (2019.11.28)\n",
      "Requirement already satisfied: urllib3!=1.25.0,!=1.25.1,<1.26,>=1.21.1 in /home/student/anaconda3/lib/python3.7/site-packages (from requests->folium) (1.25.8)\n",
      "Requirement already satisfied: idna<2.9,>=2.5 in /home/student/anaconda3/lib/python3.7/site-packages (from requests->folium) (2.8)\n",
      "Requirement already satisfied: MarkupSafe>=0.23 in /home/student/anaconda3/lib/python3.7/site-packages (from jinja2>=2.9->folium) (1.1.1)\n",
      "Installing collected packages: branca, folium\n",
      "Successfully installed branca-0.4.2 folium-0.12.1\n",
      "\u001b[33mWARNING: Keyring is skipped due to an exception: Failed to unlock the collection!\u001b[0m\n",
      "\u001b[33mWARNING: Keyring is skipped due to an exception: Failed to unlock the collection!\u001b[0m\n",
      "\u001b[33mWARNING: Keyring is skipped due to an exception: Failed to unlock the collection!\u001b[0m\n",
      "\u001b[33mWARNING: Keyring is skipped due to an exception: Failed to unlock the collection!\u001b[0m\n",
      "Collecting scikit-optimize\n",
      "\u001b[33m  WARNING: Keyring is skipped due to an exception: Failed to unlock the collection!\u001b[0m\n",
      "  Downloading scikit_optimize-0.8.1-py2.py3-none-any.whl (101 kB)\n",
      "\u001b[K     |████████████████████████████████| 101 kB 5.1 MB/s ta 0:00:011\n",
      "\u001b[?25hRequirement already satisfied: numpy>=1.13.3 in /home/student/anaconda3/lib/python3.7/site-packages (from scikit-optimize) (1.18.1)\n",
      "Requirement already satisfied: scikit-learn>=0.20.0 in /home/student/anaconda3/lib/python3.7/site-packages (from scikit-optimize) (0.22.1)\n",
      "Requirement already satisfied: joblib>=0.11 in /home/student/anaconda3/lib/python3.7/site-packages (from scikit-optimize) (0.14.1)\n",
      "\u001b[33mWARNING: Keyring is skipped due to an exception: Failed to unlock the collection!\u001b[0m\n",
      "\u001b[33mWARNING: Keyring is skipped due to an exception: Failed to unlock the collection!\u001b[0m\n",
      "Collecting pyaml>=16.9\n",
      "\u001b[33m  WARNING: Keyring is skipped due to an exception: Failed to unlock the collection!\u001b[0m\n",
      "  Downloading pyaml-20.4.0-py2.py3-none-any.whl (17 kB)\n",
      "Requirement already satisfied: scipy>=0.19.1 in /home/student/anaconda3/lib/python3.7/site-packages (from scikit-optimize) (1.4.1)\n",
      "Requirement already satisfied: PyYAML in /home/student/anaconda3/lib/python3.7/site-packages (from pyaml>=16.9->scikit-optimize) (5.3)\n",
      "Installing collected packages: pyaml, scikit-optimize\n",
      "Successfully installed pyaml-20.4.0 scikit-optimize-0.8.1\n"
     ]
    }
   ],
   "source": [
    "!pip install folium\n",
    "!pip install scikit-optimize"
   ]
  },
  {
   "cell_type": "code",
   "execution_count": 16,
   "metadata": {},
   "outputs": [],
   "source": [
    "import pandas as pd\n",
    "import numpy as np\n",
    "import folium\n"
   ]
  },
  {
   "cell_type": "code",
   "execution_count": 20,
   "metadata": {},
   "outputs": [],
   "source": [
    "# we load the data we have saved after wrangling and pre-processing in block I\n",
    "X=pd.read_csv('../../DATA/train_cleaned.csv')\n",
    "drop_columns=['Unnamed: 0','Unnamed: 0.1','Unnamed: 0.1.1','key','pickup_datetime','pickup_date','pickup_latitude_round3','pickup_longitude_round3','dropoff_latitude_round3','dropoff_longitude_round3']\n",
    "X=X.drop(drop_columns,axis=1)\n",
    "X=pd.get_dummies(X)# one hot coding\n",
    "#generate labels\n",
    "y=X['fare_amount']\n",
    "X=X.drop(['fare_amount'],axis=1)"
   ]
  },
  {
   "cell_type": "markdown",
   "metadata": {},
   "source": [
    "### Scikit Optimize\n",
    "Scikit Optimize (https://scikit-optimize.github.io/stable/index.html) is a AutoML toolbox wrapped around Scikit-Learn. It allows us to use state-of-the-art automatic hyper-parameter optimization on top of our learning algorithms.   \n",
    "\n"
   ]
  },
  {
   "cell_type": "code",
   "execution_count": 4,
   "metadata": {},
   "outputs": [],
   "source": [
    "# install, in cell 1 already installed\n",
    "#!pip install scikit-optimize"
   ]
  },
  {
   "cell_type": "markdown",
   "metadata": {},
   "source": [
    "### E 2.1 Bayesian Optimization of a Random Forest Regression Model\n",
    "use Bayesian Optimization with Cross-Validation (https://scikit-optimize.github.io/stable/modules/generated/skopt.BayesSearchCV.html#skopt.BayesSearchCV) to find the best regression model. Compare\n",
    "* linear regression (https://scikit-learn.org/stable/modules/generated/sklearn.linear_model.LinearRegression.html#sklearn.linear_model.LinearRegression) \n",
    "* Random Forest regression (https://scikit-learn.org/stable/modules/generated/sklearn.ensemble.RandomForestRegressor.html#sklearn.ensemble.RandomForestRegressor)\n",
    "* and SVM regression (https://scikit-learn.org/stable/modules/generated/sklearn.svm.SVR.html#sklearn.svm.SVR)\n",
    "\n",
    "NOTES: this can become quite compute intensive! Hence,\n",
    "* use a smaller subset of the training data to run the experiments \n",
    "* think about the range of your parameters (e.g. larger number of trees in RF or high C-values in SMV will make models expensive)\n",
    "* optimize only the following parameters per model type:\n",
    "    * linear: no parameters to optimize\n",
    "    * RF: #trees and depth\n",
    "    * SVM: C and gamma (use RBF kernel)\n",
    "* parallelize -> n_jobs\n",
    "* use CoLab to rum the job for up to 12h \n"
   ]
  },
  {
   "cell_type": "code",
   "execution_count": 21,
   "metadata": {},
   "outputs": [],
   "source": [
    "from skopt import BayesSearchCV as BSCV\n",
    "from skopt.space.space import Integer as skopt_int\n",
    "from sklearn.model_selection import train_test_split\n",
    "from sklearn.linear_model import LinearRegression as LR\n",
    "from sklearn.ensemble import RandomForestRegressor as RFR\n",
    "from sklearn.svm import SVR \n",
    "from sklearn.metrics import mean_squared_error as mse\n",
    "from sklearn.pipeline import make_pipeline\n",
    "from sklearn.preprocessing import StandardScaler"
   ]
  },
  {
   "cell_type": "code",
   "execution_count": 22,
   "metadata": {},
   "outputs": [
    {
     "data": {
      "text/plain": [
       "(400000, 31)"
      ]
     },
     "execution_count": 22,
     "metadata": {},
     "output_type": "execute_result"
    }
   ],
   "source": [
    "np.shape(X)"
   ]
  },
  {
   "cell_type": "code",
   "execution_count": 23,
   "metadata": {},
   "outputs": [
    {
     "name": "stdout",
     "output_type": "stream",
     "text": [
      "(10000, 31) (10000,)\n"
     ]
    }
   ],
   "source": [
    "y_less = y[:10000]\n",
    "X_less=X[:10000]\n",
    "print(np.shape(X_less), np.shape(y_less))"
   ]
  },
  {
   "cell_type": "code",
   "execution_count": 24,
   "metadata": {},
   "outputs": [],
   "source": [
    "X_l_train,X_l_test,y_l_train,y_l_test = train_test_split(X_less,y_less, test_size=0.1, random_state = 1)"
   ]
  },
  {
   "cell_type": "code",
   "execution_count": 25,
   "metadata": {},
   "outputs": [
    {
     "name": "stdout",
     "output_type": "stream",
     "text": [
      "<class 'pandas.core.series.Series'> <class 'pandas.core.series.Series'>\n"
     ]
    }
   ],
   "source": [
    "print(type(y_l_train), type(y_l_test))"
   ]
  },
  {
   "cell_type": "markdown",
   "metadata": {},
   "source": [
    "### ***Linear regression***\n",
    "- There are no parameters to be optimzied. So no BayesSearchCV is used"
   ]
  },
  {
   "cell_type": "code",
   "execution_count": 10,
   "metadata": {},
   "outputs": [],
   "source": [
    "LRm = LR().fit(X_l_train,y_l_train)"
   ]
  },
  {
   "cell_type": "code",
   "execution_count": 11,
   "metadata": {},
   "outputs": [],
   "source": [
    "res_LR_y_l_test = LRm.predict(X_l_test)"
   ]
  },
  {
   "cell_type": "code",
   "execution_count": 12,
   "metadata": {},
   "outputs": [
    {
     "data": {
      "text/plain": [
       "25.88405237662758"
      ]
     },
     "execution_count": 12,
     "metadata": {},
     "output_type": "execute_result"
    }
   ],
   "source": [
    "mse_LR_test = mse(y_l_test,res_LR_y_l_test)\n",
    "mse_LR_test"
   ]
  },
  {
   "cell_type": "markdown",
   "metadata": {},
   "source": [
    "### ***Random Forest Tree***"
   ]
  },
  {
   "cell_type": "code",
   "execution_count": 13,
   "metadata": {},
   "outputs": [],
   "source": [
    "RFR_pl = make_pipeline(StandardScaler(),RFR(random_state = 0))"
   ]
  },
  {
   "cell_type": "code",
   "execution_count": 14,
   "metadata": {},
   "outputs": [
    {
     "data": {
      "text/plain": [
       "dict_keys(['memory', 'steps', 'verbose', 'standardscaler', 'randomforestregressor', 'standardscaler__copy', 'standardscaler__with_mean', 'standardscaler__with_std', 'randomforestregressor__bootstrap', 'randomforestregressor__ccp_alpha', 'randomforestregressor__criterion', 'randomforestregressor__max_depth', 'randomforestregressor__max_features', 'randomforestregressor__max_leaf_nodes', 'randomforestregressor__max_samples', 'randomforestregressor__min_impurity_decrease', 'randomforestregressor__min_impurity_split', 'randomforestregressor__min_samples_leaf', 'randomforestregressor__min_samples_split', 'randomforestregressor__min_weight_fraction_leaf', 'randomforestregressor__n_estimators', 'randomforestregressor__n_jobs', 'randomforestregressor__oob_score', 'randomforestregressor__random_state', 'randomforestregressor__verbose', 'randomforestregressor__warm_start'])"
      ]
     },
     "execution_count": 14,
     "metadata": {},
     "output_type": "execute_result"
    }
   ],
   "source": [
    "RFR_pl.get_params().keys()"
   ]
  },
  {
   "cell_type": "code",
   "execution_count": 15,
   "metadata": {},
   "outputs": [],
   "source": [
    "search_spaces = {'randomforestregressor__n_estimators': skopt_int(1,1000),\n",
    "                  'randomforestregressor__max_depth' : skopt_int(2,100)}"
   ]
  },
  {
   "cell_type": "code",
   "execution_count": 16,
   "metadata": {},
   "outputs": [],
   "source": [
    "RFR_BSCV = BSCV(estimator = RFR_pl, search_spaces = search_spaces, n_iter=30,n_jobs=-1,random_state=0)"
   ]
  },
  {
   "cell_type": "code",
   "execution_count": null,
   "metadata": {},
   "outputs": [
    {
     "name": "stderr",
     "output_type": "stream",
     "text": [
      "/home/student/anaconda3/lib/python3.7/site-packages/joblib/externals/loky/process_executor.py:706: UserWarning: A worker stopped while some jobs were given to the executor. This can be caused by a too short worker timeout or by a memory leak.\n",
      "  \"timeout or by a memory leak.\", UserWarning\n"
     ]
    }
   ],
   "source": [
    "RFR_BSCV.fit(X_l_train,y_l_train)"
   ]
  },
  {
   "cell_type": "code",
   "execution_count": null,
   "metadata": {},
   "outputs": [],
   "source": [
    "RFR_BSCV.best_estimator_"
   ]
  },
  {
   "cell_type": "code",
   "execution_count": null,
   "metadata": {},
   "outputs": [],
   "source": [
    "RFR_BSCV.cv_results_"
   ]
  },
  {
   "cell_type": "markdown",
   "metadata": {},
   "source": [
    "### ***SVR***"
   ]
  },
  {
   "cell_type": "code",
   "execution_count": 12,
   "metadata": {},
   "outputs": [],
   "source": [
    "from skopt.space.space import Categorical as skopt_cat\n",
    "from skopt.space.space import Real as skopt_real"
   ]
  },
  {
   "cell_type": "code",
   "execution_count": 5,
   "metadata": {},
   "outputs": [],
   "source": [
    "SVR_pl = make_pipeline(StandardScaler(),SVR(kernel='rbf'))"
   ]
  },
  {
   "cell_type": "code",
   "execution_count": 6,
   "metadata": {},
   "outputs": [
    {
     "data": {
      "text/plain": [
       "dict_keys(['memory', 'steps', 'verbose', 'standardscaler', 'svr', 'standardscaler__copy', 'standardscaler__with_mean', 'standardscaler__with_std', 'svr__C', 'svr__cache_size', 'svr__coef0', 'svr__degree', 'svr__epsilon', 'svr__gamma', 'svr__kernel', 'svr__max_iter', 'svr__shrinking', 'svr__tol', 'svr__verbose'])"
      ]
     },
     "execution_count": 6,
     "metadata": {},
     "output_type": "execute_result"
    }
   ],
   "source": [
    "SVR_pl.get_params().keys()"
   ]
  },
  {
   "cell_type": "code",
   "execution_count": 13,
   "metadata": {},
   "outputs": [],
   "source": [
    "search_spaces = {'svr__gamma': skopt_cat(['scale','auto']),\n",
    "                  'svr__C' : skopt_real(0.01,100)}"
   ]
  },
  {
   "cell_type": "code",
   "execution_count": 14,
   "metadata": {},
   "outputs": [],
   "source": [
    "SVR_BSCV = BSCV(estimator = SVR_pl, search_spaces = search_spaces, n_iter=1,n_jobs=-1,random_state=0)"
   ]
  },
  {
   "cell_type": "code",
   "execution_count": 26,
   "metadata": {},
   "outputs": [
    {
     "data": {
      "text/plain": [
       "BayesSearchCV(cv=None, error_score='raise',\n",
       "              estimator=Pipeline(memory=None,\n",
       "                                 steps=[('standardscaler',\n",
       "                                         StandardScaler(copy=True,\n",
       "                                                        with_mean=True,\n",
       "                                                        with_std=True)),\n",
       "                                        ('svr',\n",
       "                                         SVR(C=1.0, cache_size=200, coef0=0.0,\n",
       "                                             degree=3, epsilon=0.1,\n",
       "                                             gamma='scale', kernel='rbf',\n",
       "                                             max_iter=-1, shrinking=True,\n",
       "                                             tol=0.001, verbose=False))],\n",
       "                                 verbose=False),\n",
       "              fit_params=None, iid=True, n_iter=30, n_jobs=-1, n_points=1,\n",
       "              optimizer_kwargs=None, pre_dispatch='2*n_jobs', random_state=0,\n",
       "              refit=True, return_train_score=False, scoring=None,\n",
       "              search_spaces={'svr__C': Real(low=0.01, high=100, prior='uniform', transform='identity'),\n",
       "                             'svr__gamma': Categorical(categories=('scale', 'auto'), prior=None)},\n",
       "              verbose=0)"
      ]
     },
     "execution_count": 26,
     "metadata": {},
     "output_type": "execute_result"
    }
   ],
   "source": [
    "SVR_BSCV.fit(X_l_train,y_l_train)"
   ]
  },
  {
   "cell_type": "code",
   "execution_count": 27,
   "metadata": {},
   "outputs": [
    {
     "data": {
      "text/plain": [
       "Pipeline(memory=None,\n",
       "         steps=[('standardscaler',\n",
       "                 StandardScaler(copy=True, with_mean=True, with_std=True)),\n",
       "                ('svr',\n",
       "                 SVR(C=26.836640050057976, cache_size=200, coef0=0.0, degree=3,\n",
       "                     epsilon=0.1, gamma='auto', kernel='rbf', max_iter=-1,\n",
       "                     shrinking=True, tol=0.001, verbose=False))],\n",
       "         verbose=False)"
      ]
     },
     "execution_count": 27,
     "metadata": {},
     "output_type": "execute_result"
    }
   ],
   "source": [
    "SVR_BSCV.best_estimator_"
   ]
  },
  {
   "cell_type": "code",
   "execution_count": 28,
   "metadata": {},
   "outputs": [
    {
     "data": {
      "text/plain": [
       "defaultdict(list,\n",
       "            {'split0_test_score': [0.8163181071362374,\n",
       "              0.8166607026306562,\n",
       "              0.8167668281174268,\n",
       "              0.8148773224370645,\n",
       "              0.8169171052580421,\n",
       "              0.8141100299692191,\n",
       "              0.8121642185161618,\n",
       "              0.8163382183081375,\n",
       "              0.813339765197274,\n",
       "              0.8166062346362077,\n",
       "              0.06399567496299885,\n",
       "              0.8171469060419593,\n",
       "              0.8161446541228363,\n",
       "              0.8165782473345444,\n",
       "              0.8156695589170555,\n",
       "              0.8126199388864906,\n",
       "              0.8167099165193417,\n",
       "              0.06267707886644813,\n",
       "              0.8141760654439909,\n",
       "              0.8145086411541436,\n",
       "              0.8163904718931331,\n",
       "              0.8156808502122692,\n",
       "              0.8167140604360115,\n",
       "              0.8152267618023861,\n",
       "              0.8167609526401571,\n",
       "              0.8140535089404163,\n",
       "              0.8157311359871877,\n",
       "              0.8162917062874331,\n",
       "              0.8145535712390954,\n",
       "              0.813702507410119],\n",
       "             'split1_test_score': [0.7967046226380965,\n",
       "              0.7997328176872495,\n",
       "              0.7969238883375778,\n",
       "              0.8001996310835668,\n",
       "              0.7989509910572341,\n",
       "              0.7919489234119111,\n",
       "              0.7906353978735152,\n",
       "              0.7970415051288762,\n",
       "              0.8001474956848241,\n",
       "              0.8000132433529089,\n",
       "              0.09315257690484635,\n",
       "              0.7995530795261457,\n",
       "              0.7944918981492068,\n",
       "              0.7955634913964839,\n",
       "              0.7933388891244826,\n",
       "              0.7903463383860522,\n",
       "              0.7988544178220599,\n",
       "              0.09072042160951066,\n",
       "              0.7914895934272483,\n",
       "              0.8001699123279467,\n",
       "              0.8002761582082044,\n",
       "              0.7996934611031319,\n",
       "              0.7961482993952059,\n",
       "              0.7933706622172176,\n",
       "              0.7980822459694659,\n",
       "              0.8002788008075548,\n",
       "              0.7946679606357833,\n",
       "              0.7993700657431001,\n",
       "              0.7923867004654779,\n",
       "              0.7910287118812118],\n",
       "             'split2_test_score': [0.6931989570876497,\n",
       "              0.6943767796500586,\n",
       "              0.6933575731758238,\n",
       "              0.6919025984819462,\n",
       "              0.69435618399751,\n",
       "              0.689704268881844,\n",
       "              0.6874042307798806,\n",
       "              0.693195194737144,\n",
       "              0.6871045666576793,\n",
       "              0.6933830220098246,\n",
       "              0.08266968549997555,\n",
       "              0.6944020241768263,\n",
       "              0.69242601224489,\n",
       "              0.6930562185411338,\n",
       "              0.6914011685535353,\n",
       "              0.6874914523937178,\n",
       "              0.6933532461210101,\n",
       "              0.08174536907750218,\n",
       "              0.68923910096651,\n",
       "              0.6895581879823955,\n",
       "              0.6940567215870653,\n",
       "              0.6935660725407188,\n",
       "              0.6932730611402441,\n",
       "              0.6914880326025632,\n",
       "              0.6934430256699764,\n",
       "              0.6890785988738125,\n",
       "              0.6924061603920189,\n",
       "              0.6932477389137278,\n",
       "              0.6903080935801422,\n",
       "              0.6886345844625497],\n",
       "             'split3_test_score': [0.7756248662226929,\n",
       "              0.7818738510987937,\n",
       "              0.7758685713995896,\n",
       "              0.7843778721905045,\n",
       "              0.7825301681075928,\n",
       "              0.7719646285368083,\n",
       "              0.7698997762058406,\n",
       "              0.7762327756069163,\n",
       "              0.7831002731983685,\n",
       "              0.7793716858429547,\n",
       "              0.08568318912537265,\n",
       "              0.7815455579016166,\n",
       "              0.7735709386199651,\n",
       "              0.7742275904636294,\n",
       "              0.7728153244995628,\n",
       "              0.7694152521459955,\n",
       "              0.7782493160810824,\n",
       "              0.08444193651964393,\n",
       "              0.771051314693168,\n",
       "              0.784479437691478,\n",
       "              0.7801675011391321,\n",
       "              0.7834270210390185,\n",
       "              0.7746424203234807,\n",
       "              0.7733435201986169,\n",
       "              0.777402337756262,\n",
       "              0.7846150892495514,\n",
       "              0.7740829257201053,\n",
       "              0.7789615178519347,\n",
       "              0.7724111796809208,\n",
       "              0.770559862247862],\n",
       "             'split4_test_score': [0.8410053938157198,\n",
       "              0.8412919243178849,\n",
       "              0.8413476438128524,\n",
       "              0.839942705034425,\n",
       "              0.8410866564105235,\n",
       "              0.8394024681970149,\n",
       "              0.8379129949775641,\n",
       "              0.8410946772932366,\n",
       "              0.8380118525572363,\n",
       "              0.841647540049759,\n",
       "              0.10873735366447501,\n",
       "              0.841708464784876,\n",
       "              0.8410808210410113,\n",
       "              0.840991125371063,\n",
       "              0.8404648224279856,\n",
       "              0.8379548495693344,\n",
       "              0.8415097245144976,\n",
       "              0.10756337969983698,\n",
       "              0.8392039192723348,\n",
       "              0.8395733026257722,\n",
       "              0.841397274015689,\n",
       "              0.8398555174064114,\n",
       "              0.8411008668510831,\n",
       "              0.8403783365030996,\n",
       "              0.8415017175183821,\n",
       "              0.8389438678943265,\n",
       "              0.8407426408913063,\n",
       "              0.8412851382427261,\n",
       "              0.8397143393280507,\n",
       "              0.8388655900954841],\n",
       "             'mean_test_score': [0.7845703893800793,\n",
       "              0.7867872150769286,\n",
       "              0.784852900968654,\n",
       "              0.7862600258455014,\n",
       "              0.7867682209661804,\n",
       "              0.7814260637993595,\n",
       "              0.7796033236705926,\n",
       "              0.7847804742148622,\n",
       "              0.7843407906590765,\n",
       "              0.786204345178331,\n",
       "              0.0868476960315337,\n",
       "              0.786871206486285,\n",
       "              0.783542864835582,\n",
       "              0.7840833346213709,\n",
       "              0.7827379527045244,\n",
       "              0.7795655662763181,\n",
       "              0.7857353242115983,\n",
       "              0.08542963715458836,\n",
       "              0.7810319987606504,\n",
       "              0.7856578963563472,\n",
       "              0.7864576253686449,\n",
       "              0.78644458446031,\n",
       "              0.7843757416292051,\n",
       "              0.7827614626647768,\n",
       "              0.7854380559108487,\n",
       "              0.7853939731531323,\n",
       "              0.7835261647252804,\n",
       "              0.7858312334077845,\n",
       "              0.7818747768587373,\n",
       "              0.7805582512194453],\n",
       "             'std_test_score': [0.050534795831911304,\n",
       "              0.050188857202318506,\n",
       "              0.05061220532020516,\n",
       "              0.05060031403924898,\n",
       "              0.05013145361744041,\n",
       "              0.051073754720045196,\n",
       "              0.0513356949218785,\n",
       "              0.05055381316614501,\n",
       "              0.051822384111374784,\n",
       "              0.05069791253553061,\n",
       "              0.014559775749420852,\n",
       "              0.050325907830695495,\n",
       "              0.050784041859652934,\n",
       "              0.05061478352145054,\n",
       "              0.05093157904154347,\n",
       "              0.051378587609268785,\n",
       "              0.050661244329378054,\n",
       "              0.01449222723856565,\n",
       "              0.05121994322222296,\n",
       "              0.051354411359742114,\n",
       "              0.05036424292458416,\n",
       "              0.05003707303787462,\n",
       "              0.050589595268111,\n",
       "              0.05080510129850518,\n",
       "              0.05061974300582004,\n",
       "              0.05135713445148232,\n",
       "              0.05064988625367574,\n",
       "              0.05060666437347489,\n",
       "              0.050985951564908163,\n",
       "              0.05129882322971496],\n",
       "             'rank_test_score': [15,\n",
       "              2,\n",
       "              13,\n",
       "              6,\n",
       "              3,\n",
       "              24,\n",
       "              27,\n",
       "              14,\n",
       "              17,\n",
       "              7,\n",
       "              29,\n",
       "              1,\n",
       "              19,\n",
       "              18,\n",
       "              22,\n",
       "              28,\n",
       "              9,\n",
       "              30,\n",
       "              25,\n",
       "              10,\n",
       "              4,\n",
       "              5,\n",
       "              16,\n",
       "              21,\n",
       "              11,\n",
       "              12,\n",
       "              20,\n",
       "              8,\n",
       "              23,\n",
       "              26],\n",
       "             'mean_fit_time': [6.274841213226319,\n",
       "              3.7153757572174073,\n",
       "              5.530941104888916,\n",
       "              2.9814403533935545,\n",
       "              3.581267738342285,\n",
       "              8.317568016052245,\n",
       "              8.714655351638793,\n",
       "              5.359042358398438,\n",
       "              2.6454883098602293,\n",
       "              4.425491619110107,\n",
       "              2.539716672897339,\n",
       "              4.2827657699584964,\n",
       "              6.930224180221558,\n",
       "              6.103578805923462,\n",
       "              7.031865787506104,\n",
       "              8.463452005386353,\n",
       "              4.768699026107788,\n",
       "              2.1781277656555176,\n",
       "              8.133216142654419,\n",
       "              2.9073973178863524,\n",
       "              4.218188953399658,\n",
       "              3.3307049751281737,\n",
       "              6.650439929962158,\n",
       "              7.177425384521484,\n",
       "              5.090935516357422,\n",
       "              2.856963634490967,\n",
       "              6.4517231464385985,\n",
       "              4.806382274627685,\n",
       "              7.948959016799927,\n",
       "              7.987410974502564],\n",
       "             'std_fit_time': [0.7641434815574515,\n",
       "              0.13488692213796422,\n",
       "              0.4309384497640456,\n",
       "              0.11733548952583248,\n",
       "              0.1445666331971949,\n",
       "              0.7677091165386668,\n",
       "              0.7574086475068387,\n",
       "              0.39433183970867375,\n",
       "              0.06959426674655027,\n",
       "              0.1862953980558621,\n",
       "              0.22802809536693155,\n",
       "              0.47927795794470585,\n",
       "              0.606216788767133,\n",
       "              0.3405936251532916,\n",
       "              0.5257614578533826,\n",
       "              0.6148620087829658,\n",
       "              0.32922161662094784,\n",
       "              0.10701396518482748,\n",
       "              0.4916639511753479,\n",
       "              0.1705764042425663,\n",
       "              0.2765334161154893,\n",
       "              0.19151040945469927,\n",
       "              0.6579263089048463,\n",
       "              0.6088127141560007,\n",
       "              0.3960226235660499,\n",
       "              0.17089106213445363,\n",
       "              0.4509891653331729,\n",
       "              0.29879652779322735,\n",
       "              0.8354144590228271,\n",
       "              0.6024699809856375],\n",
       "             'mean_score_time': [0.36797218322753905,\n",
       "              0.38670787811279295,\n",
       "              0.3670960903167725,\n",
       "              0.3958595752716064,\n",
       "              0.4246264934539795,\n",
       "              0.3923755168914795,\n",
       "              0.3709153175354004,\n",
       "              0.38158378601074217,\n",
       "              0.39037532806396485,\n",
       "              0.3739598274230957,\n",
       "              0.43911991119384763,\n",
       "              0.42069306373596194,\n",
       "              0.3870237827301025,\n",
       "              0.3683462142944336,\n",
       "              0.3759812831878662,\n",
       "              0.39199395179748536,\n",
       "              0.3814523220062256,\n",
       "              0.38627991676330564,\n",
       "              0.3967731475830078,\n",
       "              0.3905282497406006,\n",
       "              0.3903477668762207,\n",
       "              0.39449095726013184,\n",
       "              0.4447268009185791,\n",
       "              0.3643228054046631,\n",
       "              0.37674365043640134,\n",
       "              0.3635558605194092,\n",
       "              0.35936794281005857,\n",
       "              0.38524670600891114,\n",
       "              0.39109206199645996,\n",
       "              0.3861838340759277],\n",
       "             'std_score_time': [0.021224785555859403,\n",
       "              0.0161984599970816,\n",
       "              0.020073536905946848,\n",
       "              0.00906022602018055,\n",
       "              0.04300616640896335,\n",
       "              0.04309544763664597,\n",
       "              0.02961034216949533,\n",
       "              0.024279505786901037,\n",
       "              0.01900806210610112,\n",
       "              0.017016298321969502,\n",
       "              0.0260996708433017,\n",
       "              0.05739433241239061,\n",
       "              0.02454508756982811,\n",
       "              0.01864566581319976,\n",
       "              0.02560022098237956,\n",
       "              0.010803758442206863,\n",
       "              0.01883678885636185,\n",
       "              0.02642490859221368,\n",
       "              0.044410699337510524,\n",
       "              0.025013158415663667,\n",
       "              0.011902719335467087,\n",
       "              0.005894590659972993,\n",
       "              0.03847782807866598,\n",
       "              0.026334216906686764,\n",
       "              0.023128695354709204,\n",
       "              0.018990794951301616,\n",
       "              0.022747154529125607,\n",
       "              0.016950878304203467,\n",
       "              0.01907671287306387,\n",
       "              0.016372291352779827],\n",
       "             'param_svr__C': [53.10110685356521,\n",
       "              25.844582480655085,\n",
       "              52.87388729012433,\n",
       "              14.750506996997661,\n",
       "              23.259077682744195,\n",
       "              83.81825659149456,\n",
       "              96.71345117618114,\n",
       "              51.05379975138425,\n",
       "              9.214529145552532,\n",
       "              36.96000237027823,\n",
       "              0.01,\n",
       "              26.836640050057976,\n",
       "              69.45119707607277,\n",
       "              62.116755002209864,\n",
       "              76.84414586013915,\n",
       "              100.0,\n",
       "              43.37483876709858,\n",
       "              0.01,\n",
       "              89.9738810857128,\n",
       "              11.508498572956615,\n",
       "              32.23306833822495,\n",
       "              18.782025488962613,\n",
       "              57.97991924769759,\n",
       "              73.15254448659249,\n",
       "              47.028515263835246,\n",
       "              11.015230847820225,\n",
       "              65.82159127085015,\n",
       "              40.01480187679002,\n",
       "              80.23022747292464,\n",
       "              93.42512245979914],\n",
       "             'param_svr__gamma': ['scale',\n",
       "              'scale',\n",
       "              'auto',\n",
       "              'scale',\n",
       "              'auto',\n",
       "              'scale',\n",
       "              'scale',\n",
       "              'scale',\n",
       "              'scale',\n",
       "              'auto',\n",
       "              'auto',\n",
       "              'auto',\n",
       "              'auto',\n",
       "              'auto',\n",
       "              'auto',\n",
       "              'auto',\n",
       "              'auto',\n",
       "              'scale',\n",
       "              'auto',\n",
       "              'auto',\n",
       "              'scale',\n",
       "              'scale',\n",
       "              'auto',\n",
       "              'scale',\n",
       "              'auto',\n",
       "              'scale',\n",
       "              'scale',\n",
       "              'scale',\n",
       "              'scale',\n",
       "              'auto'],\n",
       "             'params': [OrderedDict([('svr__C', 53.10110685356521),\n",
       "                           ('svr__gamma', 'scale')]),\n",
       "              OrderedDict([('svr__C', 25.844582480655085),\n",
       "                           ('svr__gamma', 'scale')]),\n",
       "              OrderedDict([('svr__C', 52.87388729012433),\n",
       "                           ('svr__gamma', 'auto')]),\n",
       "              OrderedDict([('svr__C', 14.750506996997661),\n",
       "                           ('svr__gamma', 'scale')]),\n",
       "              OrderedDict([('svr__C', 23.259077682744195),\n",
       "                           ('svr__gamma', 'auto')]),\n",
       "              OrderedDict([('svr__C', 83.81825659149456),\n",
       "                           ('svr__gamma', 'scale')]),\n",
       "              OrderedDict([('svr__C', 96.71345117618114),\n",
       "                           ('svr__gamma', 'scale')]),\n",
       "              OrderedDict([('svr__C', 51.05379975138425),\n",
       "                           ('svr__gamma', 'scale')]),\n",
       "              OrderedDict([('svr__C', 9.214529145552532),\n",
       "                           ('svr__gamma', 'scale')]),\n",
       "              OrderedDict([('svr__C', 36.96000237027823),\n",
       "                           ('svr__gamma', 'auto')]),\n",
       "              OrderedDict([('svr__C', 0.01), ('svr__gamma', 'auto')]),\n",
       "              OrderedDict([('svr__C', 26.836640050057976),\n",
       "                           ('svr__gamma', 'auto')]),\n",
       "              OrderedDict([('svr__C', 69.45119707607277),\n",
       "                           ('svr__gamma', 'auto')]),\n",
       "              OrderedDict([('svr__C', 62.116755002209864),\n",
       "                           ('svr__gamma', 'auto')]),\n",
       "              OrderedDict([('svr__C', 76.84414586013915),\n",
       "                           ('svr__gamma', 'auto')]),\n",
       "              OrderedDict([('svr__C', 100.0), ('svr__gamma', 'auto')]),\n",
       "              OrderedDict([('svr__C', 43.37483876709858),\n",
       "                           ('svr__gamma', 'auto')]),\n",
       "              OrderedDict([('svr__C', 0.01), ('svr__gamma', 'scale')]),\n",
       "              OrderedDict([('svr__C', 89.9738810857128),\n",
       "                           ('svr__gamma', 'auto')]),\n",
       "              OrderedDict([('svr__C', 11.508498572956615),\n",
       "                           ('svr__gamma', 'auto')]),\n",
       "              OrderedDict([('svr__C', 32.23306833822495),\n",
       "                           ('svr__gamma', 'scale')]),\n",
       "              OrderedDict([('svr__C', 18.782025488962613),\n",
       "                           ('svr__gamma', 'scale')]),\n",
       "              OrderedDict([('svr__C', 57.97991924769759),\n",
       "                           ('svr__gamma', 'auto')]),\n",
       "              OrderedDict([('svr__C', 73.15254448659249),\n",
       "                           ('svr__gamma', 'scale')]),\n",
       "              OrderedDict([('svr__C', 47.028515263835246),\n",
       "                           ('svr__gamma', 'auto')]),\n",
       "              OrderedDict([('svr__C', 11.015230847820225),\n",
       "                           ('svr__gamma', 'scale')]),\n",
       "              OrderedDict([('svr__C', 65.82159127085015),\n",
       "                           ('svr__gamma', 'scale')]),\n",
       "              OrderedDict([('svr__C', 40.01480187679002),\n",
       "                           ('svr__gamma', 'scale')]),\n",
       "              OrderedDict([('svr__C', 80.23022747292464),\n",
       "                           ('svr__gamma', 'scale')]),\n",
       "              OrderedDict([('svr__C', 93.42512245979914),\n",
       "                           ('svr__gamma', 'auto')])]})"
      ]
     },
     "execution_count": 28,
     "metadata": {},
     "output_type": "execute_result"
    }
   ],
   "source": [
    "SVR_BSCV.cv_results_"
   ]
  },
  {
   "cell_type": "code",
   "execution_count": null,
   "metadata": {},
   "outputs": [],
   "source": []
  }
 ],
 "metadata": {
  "kernelspec": {
   "display_name": "Python 3",
   "language": "python",
   "name": "python3"
  },
  "language_info": {
   "codemirror_mode": {
    "name": "ipython",
    "version": 3
   },
   "file_extension": ".py",
   "mimetype": "text/x-python",
   "name": "python",
   "nbconvert_exporter": "python",
   "pygments_lexer": "ipython3",
   "version": "3.7.6"
  }
 },
 "nbformat": 4,
 "nbformat_minor": 4
}
