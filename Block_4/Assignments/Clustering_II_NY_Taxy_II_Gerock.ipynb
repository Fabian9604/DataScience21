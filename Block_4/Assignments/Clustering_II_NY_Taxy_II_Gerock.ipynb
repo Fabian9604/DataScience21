{
 "cells": [
  {
   "cell_type": "markdown",
   "metadata": {},
   "source": [
    "# Exercise: Geographical Cluster Analysis of Taxi Rides\n",
    "Using the NY Taxi data set (see Use Case Block I) and the use case from the lecture..."
   ]
  },
  {
   "cell_type": "code",
   "execution_count": 2,
   "metadata": {},
   "outputs": [
    {
     "name": "stdout",
     "output_type": "stream",
     "text": [
      "\u001b[33mWARNING: Keyring is skipped due to an exception: Failed to unlock the collection!\u001b[0m\n",
      "\u001b[33mWARNING: Keyring is skipped due to an exception: Failed to unlock the collection!\u001b[0m\n",
      "Collecting folium\n",
      "\u001b[33m  WARNING: Keyring is skipped due to an exception: Failed to unlock the collection!\u001b[0m\n",
      "  Downloading folium-0.12.1-py2.py3-none-any.whl (94 kB)\n",
      "\u001b[K     |████████████████████████████████| 94 kB 4.9 MB/s  eta 0:00:01\n",
      "\u001b[?25hRequirement already satisfied: numpy in /home/student/anaconda3/lib/python3.7/site-packages (from folium) (1.18.1)\n",
      "Requirement already satisfied: jinja2>=2.9 in /home/student/anaconda3/lib/python3.7/site-packages (from folium) (2.11.1)\n",
      "\u001b[33mWARNING: Keyring is skipped due to an exception: Failed to unlock the collection!\u001b[0m\n",
      "\u001b[33mWARNING: Keyring is skipped due to an exception: Failed to unlock the collection!\u001b[0m\n",
      "Collecting branca>=0.3.0\n",
      "\u001b[33m  WARNING: Keyring is skipped due to an exception: Failed to unlock the collection!\u001b[0m\n",
      "  Downloading branca-0.4.2-py3-none-any.whl (24 kB)\n",
      "Requirement already satisfied: requests in /home/student/anaconda3/lib/python3.7/site-packages (from folium) (2.22.0)\n",
      "Requirement already satisfied: MarkupSafe>=0.23 in /home/student/anaconda3/lib/python3.7/site-packages (from jinja2>=2.9->folium) (1.1.1)\n",
      "Requirement already satisfied: urllib3!=1.25.0,!=1.25.1,<1.26,>=1.21.1 in /home/student/anaconda3/lib/python3.7/site-packages (from requests->folium) (1.25.8)\n",
      "Requirement already satisfied: chardet<3.1.0,>=3.0.2 in /home/student/anaconda3/lib/python3.7/site-packages (from requests->folium) (3.0.4)\n",
      "Requirement already satisfied: certifi>=2017.4.17 in /home/student/anaconda3/lib/python3.7/site-packages (from requests->folium) (2019.11.28)\n",
      "Requirement already satisfied: idna<2.9,>=2.5 in /home/student/anaconda3/lib/python3.7/site-packages (from requests->folium) (2.8)\n",
      "Installing collected packages: branca, folium\n",
      "Successfully installed branca-0.4.2 folium-0.12.1\n",
      "\u001b[33mWARNING: Keyring is skipped due to an exception: Failed to unlock the collection!\u001b[0m\n",
      "\u001b[33mWARNING: Keyring is skipped due to an exception: Failed to unlock the collection!\u001b[0m\n"
     ]
    }
   ],
   "source": [
    "\n",
    "!pip install folium\n",
    "\n",
    "    "
   ]
  },
  {
   "cell_type": "code",
   "execution_count": 91,
   "metadata": {},
   "outputs": [],
   "source": [
    "import folium\n",
    "import pandas as pd\n",
    "import numpy as np\n",
    "from itertools import combinations"
   ]
  },
  {
   "cell_type": "code",
   "execution_count": 4,
   "metadata": {},
   "outputs": [],
   "source": [
    "# we load the data we have saved after wrangling and pre-processing in block I\n",
    "train=pd.read_csv('../../DATA/train_cleaned.csv')"
   ]
  },
  {
   "cell_type": "code",
   "execution_count": 5,
   "metadata": {},
   "outputs": [],
   "source": [
    "#select only the culumns with the ride coordinates\n",
    "coordinates = train[ ['pickup_latitude','pickup_longitude','dropoff_latitude' , 'dropoff_longitude' ] ]"
   ]
  },
  {
   "cell_type": "markdown",
   "metadata": {},
   "source": [
    "## Clustering approach from the lecture\n",
    "we will be using simple K-Means:\n",
    "https://scikit-learn.org/stable/modules/generated/sklearn.cluster.KMeans.html"
   ]
  },
  {
   "cell_type": "code",
   "execution_count": 6,
   "metadata": {},
   "outputs": [],
   "source": [
    "from sklearn.cluster import KMeans"
   ]
  },
  {
   "cell_type": "code",
   "execution_count": 7,
   "metadata": {},
   "outputs": [],
   "source": [
    "#define number of clusters and create instance\n",
    "clusters=100\n",
    "myKMeans=KMeans(n_clusters=clusters, n_jobs=-1)#parallelize to all cores"
   ]
  },
  {
   "cell_type": "code",
   "execution_count": 8,
   "metadata": {},
   "outputs": [
    {
     "name": "stdout",
     "output_type": "stream",
     "text": [
      "CPU times: user 48.2 ms, sys: 43.2 ms, total: 91.4 ms\n",
      "Wall time: 44.3 s\n"
     ]
    },
    {
     "data": {
      "text/plain": [
       "KMeans(algorithm='auto', copy_x=True, init='k-means++', max_iter=300,\n",
       "       n_clusters=100, n_init=10, n_jobs=-1, precompute_distances='auto',\n",
       "       random_state=None, tol=0.0001, verbose=0)"
      ]
     },
     "execution_count": 8,
     "metadata": {},
     "output_type": "execute_result"
    }
   ],
   "source": [
    "%%time\n",
    "#train model\n",
    "myKMeans.fit(coordinates.to_numpy()[:100000,:])#use only subset of the data to make it faster"
   ]
  },
  {
   "cell_type": "code",
   "execution_count": 9,
   "metadata": {},
   "outputs": [],
   "source": [
    "#get cluster centers\n",
    "centers=myKMeans.cluster_centers_"
   ]
  },
  {
   "cell_type": "code",
   "execution_count": 10,
   "metadata": {},
   "outputs": [],
   "source": [
    "#draw map: green: start, red: end\n",
    "cluster_map = folium.Map(location = [40.730610,-73.935242],zoom_start = 12,)\n",
    "for i in range(clusters):\n",
    "    folium.CircleMarker([centers[i,0], centers[i,1]], radius=3,                \n",
    "                        color=\"green\", \n",
    "                        fill_opacity=0.9\n",
    "                       ).add_to(cluster_map)\n",
    "    folium.CircleMarker([centers[i,2], centers[i,3]], radius=3,                \n",
    "                        color=\"red\", \n",
    "                        fill_opacity=0.9\n",
    "                       ).add_to(cluster_map)\n",
    "    folium.PolyLine([ [centers[i,0],centers[i,1]] , [centers[i,2],centers[i,3]]  ], color=\"black\", weight=2.5, opacity=1).add_to(cluster_map)"
   ]
  },
  {
   "cell_type": "code",
   "execution_count": 11,
   "metadata": {},
   "outputs": [],
   "source": [
    "#cluster_map"
   ]
  },
  {
   "cell_type": "markdown",
   "metadata": {},
   "source": [
    "## Exercise 1\n",
    "Write a function ```show_cluster(cluster_number,...)``` that draws the cluster centers and all start and end points of a given cluster in the map.\n",
    "* use the ```predict()``` method to map all data in ```train_data``` to a cluster center\n",
    "* use ```folium.CircleMarker``` to draw all members of a given cluster\n"
   ]
  },
  {
   "cell_type": "code",
   "execution_count": 13,
   "metadata": {},
   "outputs": [],
   "source": [
    "def show_cluster(cluster_number,train_data):\n",
    "\n",
    "    cluster_affiliation = myKMeans.predict(train_data)\n",
    "    coords_of_cluster = coordinates[cluster_affiliation==cluster_number].to_numpy()\n",
    "\n",
    "    cluster_map = folium.Map(location = [40.730610,-73.935242],zoom_start = 12,)\n",
    "    for i in range(len(coords_of_cluster)):\n",
    "        folium.CircleMarker([coords_of_cluster[i,0], coords_of_cluster[i,1]], radius=3,                \n",
    "                            color=\"green\", \n",
    "                            fill_opacity=0.9\n",
    "                           ).add_to(cluster_map)\n",
    "        folium.CircleMarker([coords_of_cluster[i,2], coords_of_cluster[i,3]], radius=3,                \n",
    "                            color=\"red\", \n",
    "                            fill_opacity=0.9\n",
    "                           ).add_to(cluster_map)\n",
    "    #folium.PolyLine([ [centers[i,0],centers[i,1]] , [centers[i,2],centers[i,3]]  ], color=\"black\", weight=2.5, opacity=1).add_to(cluster_map)\n",
    "    folium.CircleMarker([centers[cluster_number,0], centers[cluster_number,1]], radius=10,                \n",
    "                        color=\"black\", \n",
    "                        fill_opacity=0.9,\n",
    "                        tooltip='pick up'\n",
    "                        ).add_to(cluster_map)\n",
    "    folium.CircleMarker([centers[cluster_number,2], centers[cluster_number,3]], radius=10,                \n",
    "                        color=\"black\", \n",
    "                        fill_opacity=0.9,\n",
    "                        tooltip='drop off'\n",
    "                        ).add_to(cluster_map)\n",
    "    folium.PolyLine([ [centers[cluster_number,0],centers[cluster_number,1]] , [centers[cluster_number,2],centers[cluster_number,3]]  ], color=\"black\", weight=2.5, opacity=1).add_to(cluster_map)\n",
    "    return cluster_map"
   ]
  },
  {
   "cell_type": "code",
   "execution_count": 15,
   "metadata": {},
   "outputs": [],
   "source": [
    "map = show_cluster(1,coordinates)\n",
    "#map\n"
   ]
  },
  {
   "cell_type": "markdown",
   "metadata": {},
   "source": [
    "## Exercise 2\n",
    "Write a function ```cluster_var(cluster_number,...)``` that computes the intra- and extra cluster variance for a given cluster. Apply it to all clusters and compare the results for k=100 and k=10."
   ]
  },
  {
   "cell_type": "code",
   "execution_count": 186,
   "metadata": {},
   "outputs": [],
   "source": [
    "def UseKMeans(k,train_data):\n",
    "    \n",
    "    myKMeans=KMeans(n_clusters=k, n_jobs=-1)\n",
    "    myKMeans.fit(train_data.to_numpy()[:100000,:])\n",
    "    centers=myKMeans.cluster_centers_\n",
    "    cluster_affiliation = myKMeans.predict(train_data)\n",
    "    return centers,cluster_affiliation"
   ]
  },
  {
   "cell_type": "code",
   "execution_count": 224,
   "metadata": {},
   "outputs": [],
   "source": [
    "def IntraVar(center,cluster_points):\n",
    "    dist = np.linalg.norm(cluster_points-center,axis=1)\n",
    "    sum_dist = np.sum(dist)\n",
    "    number = len(cluster_points)-1 if len(cluster_points)-1 > 0 else 1\n",
    "    IVar = sum_dist/(number)\n",
    "    return IVar"
   ]
  },
  {
   "cell_type": "code",
   "execution_count": 188,
   "metadata": {},
   "outputs": [],
   "source": [
    "# berechnet die Extra Varainz durch Vraianzberechnung zwischen den Clustercenter\n",
    "def ExtraVar(centers):\n",
    "    comb = combinations(range(len(centers)),2)\n",
    "    dist = [np.linalg.norm(centers[pair[0]]-centers[pair[1]]) for pair in comb]\n",
    "    sum_dist = np.sum(dist)\n",
    "    EVar = sum_dist/(len(centers)-1)\n",
    "    #print(\"die externe Varianz beträgt\",EVar)\n",
    "    return EVar"
   ]
  },
  {
   "cell_type": "code",
   "execution_count": 189,
   "metadata": {},
   "outputs": [],
   "source": [
    "def cluster_var(cluster_number, centers, cluster_affiliation, coordinates):\n",
    "    IVar = IntraVar(centers[cluster_number],coordinates[cluster_affiliation == cluster_number])\n",
    "    EVar = ExtraVar(centers)\n",
    "    return IVar,EVar"
   ]
  },
  {
   "cell_type": "code",
   "execution_count": 199,
   "metadata": {},
   "outputs": [
    {
     "name": "stdout",
     "output_type": "stream",
     "text": [
      "Intra Varianz =  0.09957918139816364 \n",
      "Extra Varianz =  1.8247962514721128\n"
     ]
    }
   ],
   "source": [
    "IVar,EVar = cluster_var(2, centers, cluster_affiliation, coordinates)\n",
    "print(\"Intra Varianz = \",IVar, \"\\nExtra Varianz = \", EVar)"
   ]
  },
  {
   "cell_type": "code",
   "execution_count": 205,
   "metadata": {},
   "outputs": [],
   "source": [
    "#to compare all intra variances of all clusters, the mean of all is taken.\n",
    "def analyze_k(k,coordinates):\n",
    "    centers,cluster_affiliation = UseKMeans(k,coordinates)\n",
    "    IVars=[IntraVar(centers[cluster_number],coordinates[cluster_affiliation == cluster_number]) for cluster_number in range(k)]\n",
    "    print(\"mean of all Intravariances of all Clusters:\",np.mean(IVars),\"\\n Extravariance: \", ExtraVar(centers))\n"
   ]
  },
  {
   "cell_type": "code",
   "execution_count": 206,
   "metadata": {},
   "outputs": [
    {
     "name": "stdout",
     "output_type": "stream",
     "text": [
      "mean of all Intravariances of all Clusters: 0.08864740421422548 \n",
      " Extravariance:  1.825684001952676\n"
     ]
    }
   ],
   "source": [
    "analyze_k(10,coordinates)"
   ]
  },
  {
   "cell_type": "code",
   "execution_count": 208,
   "metadata": {},
   "outputs": [
    {
     "name": "stdout",
     "output_type": "stream",
     "text": [
      "mean of all Intravariances of all Clusters: 0.056051711455497054 \n",
      " Extravariance:  4.0956105899856885\n"
     ]
    }
   ],
   "source": [
    "analyze_k(20,coordinates)"
   ]
  },
  {
   "cell_type": "code",
   "execution_count": 209,
   "metadata": {},
   "outputs": [
    {
     "name": "stdout",
     "output_type": "stream",
     "text": [
      "mean of all Intravariances of all Clusters: 0.05379471017748805 \n",
      " Extravariance:  9.335844368300728\n"
     ]
    }
   ],
   "source": [
    "analyze_k(50,coordinates)"
   ]
  },
  {
   "cell_type": "code",
   "execution_count": 226,
   "metadata": {},
   "outputs": [
    {
     "name": "stdout",
     "output_type": "stream",
     "text": [
      "mean of all Intravariances of all Clusters: 0.03876792303643225 \n",
      " Extravariance:  16.134077158214325\n"
     ]
    }
   ],
   "source": [
    "analyze_k(100,coordinates)"
   ]
  },
  {
   "cell_type": "markdown",
   "metadata": {},
   "source": [
    "***Intra cluster variance is growing and extra cluster variance is decreasing with higher k. But a higher k is also less generalizing the results.***"
   ]
  },
  {
   "cell_type": "code",
   "execution_count": null,
   "metadata": {},
   "outputs": [],
   "source": []
  }
 ],
 "metadata": {
  "kernelspec": {
   "display_name": "Python 3",
   "language": "python",
   "name": "python3"
  },
  "language_info": {
   "codemirror_mode": {
    "name": "ipython",
    "version": 3
   },
   "file_extension": ".py",
   "mimetype": "text/x-python",
   "name": "python",
   "nbconvert_exporter": "python",
   "pygments_lexer": "ipython3",
   "version": "3.7.6"
  }
 },
 "nbformat": 4,
 "nbformat_minor": 4
}
