{
 "cells": [
  {
   "cell_type": "markdown",
   "metadata": {},
   "source": [
    "# Assignment 1: Numpy"
   ]
  },
  {
   "cell_type": "markdown",
   "metadata": {},
   "source": [
    "Perform the follwing tasks:\n"
   ]
  },
  {
   "cell_type": "code",
   "execution_count": 3,
   "metadata": {},
   "outputs": [],
   "source": [
    "#3.1: import the numpy library\n",
    "import numpy as np"
   ]
  },
  {
   "cell_type": "code",
   "execution_count": 15,
   "metadata": {},
   "outputs": [
    {
     "data": {
      "text/plain": [
       "(10, 10)"
      ]
     },
     "execution_count": 15,
     "metadata": {},
     "output_type": "execute_result"
    }
   ],
   "source": [
    "#3.2: create a random 10x10 array named A\n",
    "A = np.random.rand(10,10)\n",
    "np.shape(A)"
   ]
  },
  {
   "cell_type": "code",
   "execution_count": 16,
   "metadata": {},
   "outputs": [
    {
     "name": "stdout",
     "output_type": "stream",
     "text": [
      "[[0.77970951 0.40302175 0.32384706 0.30891685 0.02715657 0.40428858\n",
      "  0.58327953 0.61213403 0.05853632 0.92681344]\n",
      " [0.97603443 0.68788844 0.82296516 0.64065942 0.82156841 0.50863506\n",
      "  0.69865525 0.46486716 0.74025469 0.77221963]\n",
      " [0.12121861 0.87187103 0.66141316 0.95069241 0.5306668  0.31798134\n",
      "  0.35943518 0.61748438 0.57676263 0.61298435]\n",
      " [0.99517353 0.24539986 0.38652561 0.91599054 0.99951236 0.54357614\n",
      "  0.12901238 0.15364315 0.87535516 0.47386434]\n",
      " [0.1513731  0.48240704 0.57177806 0.7973855  0.0435721  0.51415032\n",
      "  0.65948698 0.31112191 0.39797458 0.0752427 ]]\n"
     ]
    },
    {
     "data": {
      "text/plain": [
       "(5, 10)"
      ]
     },
     "execution_count": 16,
     "metadata": {},
     "output_type": "execute_result"
    }
   ],
   "source": [
    "#3.3: return only the odd rows of A\n",
    "B=np.array([])\n",
    "for row in range(0,np.shape(A)[0],1):\n",
    "    if (row%2==1):\n",
    "        if np.size(B) == 0:\n",
    "            B=np.array([A[row,:]])\n",
    "        else:\n",
    "            B = np.concatenate((B,[A[row,:]]),axis=0)\n",
    "print(B)\n",
    "np.shape(B)"
   ]
  },
  {
   "cell_type": "code",
   "execution_count": 17,
   "metadata": {},
   "outputs": [
    {
     "data": {
      "text/plain": [
       "(10, 10)"
      ]
     },
     "execution_count": 17,
     "metadata": {},
     "output_type": "execute_result"
    }
   ],
   "source": [
    "#3.4: perform a matrix multiplication of A with it's transposed\n",
    "B = np.matrix(A)\n",
    "C = B*B.T\n",
    "np.shape(B)"
   ]
  },
  {
   "cell_type": "code",
   "execution_count": 18,
   "metadata": {},
   "outputs": [],
   "source": [
    "#3.5: compute the matrix inverse of A\n",
    "A_inv = np.linalg.inv(A)"
   ]
  },
  {
   "cell_type": "code",
   "execution_count": 19,
   "metadata": {},
   "outputs": [
    {
     "name": "stdout",
     "output_type": "stream",
     "text": [
      "[[0.5 0.5 0.5 1.  1.  0.5 1.  0.5 0.5 0.5]\n",
      " [0.5 1.  1.  1.  1.  1.  0.5 0.5 1.  0.5]\n",
      " [1.  0.5 0.5 1.  0.5 1.  0.5 0.5 1.  0.5]\n",
      " [0.5 0.5 0.5 0.5 0.5 0.5 0.5 1.  0.5 0.5]\n",
      " [1.  0.5 1.  1.  1.  1.  1.  1.  1.  1. ]\n",
      " [1.  0.5 0.5 0.5 0.5 1.  1.  0.5 0.5 0.5]\n",
      " [0.5 0.5 1.  0.5 1.  1.  1.  0.5 0.5 1. ]\n",
      " [0.5 1.  1.  0.5 0.5 0.5 1.  1.  0.5 1. ]\n",
      " [1.  1.  0.5 1.  0.5 0.5 0.5 0.5 0.5 0.5]\n",
      " [1.  1.  0.5 0.5 1.  0.5 0.5 1.  1.  1. ]]\n",
      "[[0.37034923 0.47618628 0.26725962 0.41261272 0.29608176 0.32083817\n",
      "  0.38061766 0.31668383 0.35563475 0.27163951]\n",
      " [0.38985476 0.40302175 0.32384706 0.30891685 0.02715657 0.40428858\n",
      "  0.29163976 0.30606701 0.05853632 0.46340672]\n",
      " [0.45158736 0.31835356 0.29503205 0.0199616  0.42257666 0.45771435\n",
      "  0.31626053 0.3091096  0.21256979 0.35683338]\n",
      " [0.48801722 0.34394422 0.41148258 0.32032971 0.4107842  0.25431753\n",
      "  0.34932762 0.46486716 0.37012734 0.38610981]\n",
      " [0.19414231 0.31296895 0.39117799 0.31137167 0.30219765 0.04021519\n",
      "  0.35343293 0.42288187 0.02183675 0.23163445]\n",
      " [0.12121861 0.43593552 0.33070658 0.47534621 0.2653334  0.31798134\n",
      "  0.35943518 0.30874219 0.28838132 0.30649218]\n",
      " [0.45308657 0.33942878 0.47233615 0.42160085 0.02308511 0.45999594\n",
      "  0.24789519 0.41598328 0.34187698 0.14611501]\n",
      " [0.49758677 0.24539986 0.38652561 0.45799527 0.49975618 0.27178807\n",
      "  0.12901238 0.15364315 0.43767758 0.47386434]\n",
      " [0.12511887 0.08789105 0.48429935 0.19055007 0.39116008 0.3711843\n",
      "  0.42859078 0.2856929  0.31961792 0.29091034]\n",
      " [0.1513731  0.48240704 0.28588903 0.39869275 0.0435721  0.25707516\n",
      "  0.32974349 0.31112191 0.39797458 0.0752427 ]]\n"
     ]
    }
   ],
   "source": [
    "#3.6: divide all entries of A which are lager than 0.5 by 2 (hint: use where() )\n",
    "mask = ((A > 0.5)-1)*(-0.5)+0.5\n",
    "print(mask)\n",
    "D = A *mask\n",
    "print(D)\n",
    "\n"
   ]
  },
  {
   "cell_type": "code",
   "execution_count": 20,
   "metadata": {},
   "outputs": [
    {
     "name": "stdout",
     "output_type": "stream",
     "text": [
      "[0.2649737  0.92165253 0.35764309 0.86223952 0.77361949 0.28242792\n",
      " 0.52669701 0.04167095 0.29339037 0.22343774]\n",
      "[0.2649737  0.46082627 0.35764309 0.43111976 0.38680974 0.28242792\n",
      " 0.26334851 0.04167095 0.29339037 0.22343774]\n"
     ]
    }
   ],
   "source": [
    "#Alternative\n",
    "A = np.random.rand(10,10)\n",
    "print(A[0,:])\n",
    "A[np.where(A>0.5)] = A[np.where(A>0.5)]/2\n",
    "print(A[0,:])"
   ]
  }
 ],
 "metadata": {
  "kernelspec": {
   "display_name": "Python 3",
   "language": "python",
   "name": "python3"
  },
  "language_info": {
   "codemirror_mode": {
    "name": "ipython",
    "version": 3
   },
   "file_extension": ".py",
   "mimetype": "text/x-python",
   "name": "python",
   "nbconvert_exporter": "python",
   "pygments_lexer": "ipython3",
   "version": "3.7.6"
  }
 },
 "nbformat": 4,
 "nbformat_minor": 4
}
